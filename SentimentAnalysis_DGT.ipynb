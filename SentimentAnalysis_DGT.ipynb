{
  "nbformat": 4,
  "nbformat_minor": 0,
  "metadata": {
    "colab": {
      "provenance": []
    },
    "kernelspec": {
      "name": "python3",
      "display_name": "Python 3"
    },
    "language_info": {
      "name": "python"
    }
  },
  "cells": [
    {
      "cell_type": "markdown",
      "source": [
        "# The Creation of the World in Hawaiian Mythology\n",
        "In Hawaiian mythology, the story of creation is a vibrant tapestry woven with threads of harmony, beauty, and divine benevolence. It begins with the union of Papa, the Earth Mother, and Wākea, the Sky Father, whose sacred embrace gives birth to the world as we know it.\n",
        "\n",
        "The Divine Union of Papa and Wākea:\n",
        "Papa, the fertile Earth Mother, and Wākea, the boundless Sky Father, are deeply in love. Their union symbolizes the harmonious balance between the earthly and celestial realms. From their embrace springs forth the islands of Hawai'i, each one a testament to the power of love and creation.\n",
        "\n",
        "The Creative Forces of the Gods:\n",
        "Guided by the wisdom and benevolence of the gods, particularly Kāne, the god of creation, the world teems with life and vitality. Kāne breathes life into the land, shaping its contours and adorning it with lush forests, cascading waterfalls, and fertile valleys. Kāne's companions, Kū, Lono, and Kanaloa, lend their divine energies to the creative process, infusing the world with abundance and beauty.\n",
        "\n",
        "The Abundance of Nature:\n",
        "Every aspect of nature in the Hawaiian creation story is a testament to divine generosity and providence. The land is rich with fruits, flowers, and wildlife, nourishing both body and soul. The oceans teem with life, offering sustenance and adventure to those who venture into their azure depths. The mountains reach towards the heavens, serving as sacred sanctuaries where mortals commune with the gods.\n",
        "\n",
        "The Interconnectedness of All Things:\n",
        "Central to the Hawaiian creation myth is the profound interconnectedness of all living beings. Humans, gods, plants, animals, and spirits are all bound together in a web of mutual respect and reciprocity. Each creature has its role to play in the grand tapestry of existence, contributing to the harmony and balance of the natural world.\n",
        "\n",
        "The Celebration of Beauty and Wonder:\n",
        "In Hawaiian mythology, the world is not merely a collection of physical phenomena but a living, breathing work of art. Every sunrise, every rainbow, every gust of wind is a cause for celebration, a testament to the boundless creativity and generosity of the gods. The beauty of the world serves as a constant reminder of the divine presence that infuses every aspect of existence.\n",
        "\n",
        "Conclusion:\n",
        "The creation story in Hawaiian mythology is a hymn to the beauty, harmony, and interconnectedness of all things. It offers a vision of a world suffused with divine light and benevolence, where every moment is an opportunity for awe and wonder. Through its rich tapestry of imagery and symbolism, the Hawaiian creation myth invites us to embrace the inherent goodness of creation and to cherish the sacredness of the natural world."
      ],
      "metadata": {
        "id": "ePkZGf_2uWwV"
      }
    },
    {
      "cell_type": "code",
      "source": [
        "from textblob import TextBlob\n",
        "\n",
        "def analyze_sentiment(sentence):\n",
        "    # Create a TextBlob object\n",
        "    blob = TextBlob(sentence)\n",
        "\n",
        "    # Get the sentiment polarity\n",
        "    polarity = blob.sentiment.polarity\n",
        "\n",
        "    # Define sentiment categories based on polarity\n",
        "    if polarity > 0:\n",
        "        sentiment = \"positive\"\n",
        "    elif polarity == 0:\n",
        "        sentiment = \"neutral\"\n",
        "    else:\n",
        "        sentiment = \"negative\"\n",
        "\n",
        "    return sentiment\n",
        "\n",
        "# Input text\n",
        "sentence = \"\"\"The Creation of the World in Hawaiian Mythology\n",
        "In Hawaiian mythology, the story of creation is a vibrant tapestry woven with threads of harmony, beauty, and divine benevolence. It begins with the union of Papa, the Earth Mother, and Wākea, the Sky Father, whose sacred embrace gives birth to the world as we know it.\n",
        "The Divine Union of Papa and Wākea:\n",
        "Papa, the fertile Earth Mother, and Wākea, the boundless Sky Father, are deeply in love. Their union symbolizes the harmonious balance between the earthly and celestial realms. From their embrace springs forth the islands of Hawai'i, each one a testament to the power of love and creation.\n",
        "The Creative Forces of the Gods:\n",
        "Guided by the wisdom and benevolence of the gods, particularly Kāne, the god of creation, the world teems with life and vitality. Kāne breathes life into the land, shaping its contours and adorning it with lush forests, cascading waterfalls, and fertile valleys. Kāne's companions, Kū, Lono, and Kanaloa, lend their divine energies to the creative process, infusing the world with abundance and beauty.\n",
        "The Abundance of Nature:\n",
        "Every aspect of nature in the Hawaiian creation story is a testament to divine generosity and providence. The land is rich with fruits, flowers, and wildlife, nourishing both body and soul. The oceans teem with life, offering sustenance and adventure to those who venture into their azure depths. The mountains reach towards the heavens, serving as sacred sanctuaries where mortals commune with the gods.\n",
        "The Interconnectedness of All Things:\n",
        "Central to the Hawaiian creation myth is the profound interconnectedness of all living beings. Humans, gods, plants, animals, and spirits are all bound together in a web of mutual respect and reciprocity. Each creature has its role to play in the grand tapestry of existence, contributing to the harmony and balance of the natural world.\n",
        "The Celebration of Beauty and Wonder:\n",
        "In Hawaiian mythology, the world is not merely a collection of physical phenomena but a living, breathing work of art. Every sunrise, every rainbow, every gust of wind is a cause for celebration, a testament to the boundless creativity and generosity of the gods. The beauty of the world serves as a constant reminder of the divine presence that infuses every aspect of existence.\n",
        "Conclusion:\n",
        "The creation story in Hawaiian mythology is a hymn to the beauty, harmony, and interconnectedness of all things. It offers a vision of a world suffused with divine light and benevolence, where every moment is an opportunity for awe and wonder. Through its rich tapestry of imagery and symbolism, the Hawaiian creation myth invites us to embrace the inherent goodness of creation and to cherish the sacredness of the natural world.\"\"\"\n",
        "\n",
        "# Perform sentiment analysis\n",
        "sentiment = analyze_sentiment(sentence)\n",
        "print(f\"The sentiment of the provided text is {sentiment}.\")\n"
      ],
      "metadata": {
        "colab": {
          "base_uri": "https://localhost:8080/"
        },
        "id": "ob_VriORt5gH",
        "outputId": "d43250a3-6b2e-4134-d794-7c06f446c006"
      },
      "execution_count": null,
      "outputs": [
        {
          "output_type": "stream",
          "name": "stdout",
          "text": [
            "The sentiment of the provided text is positive.\n"
          ]
        }
      ]
    },
    {
      "cell_type": "markdown",
      "source": [
        "# Ragnarok, Norse mythology\n",
        "\n",
        "In Norse mythology, Ragnarök is a catastrophic event destined to occur at the world's end. The term \"Ragnarök\" translates to \"Doom of the Gods\" or \"Dusk of the Gods\" in Old Norse, painting a grim picture. It is portrayed as a series of calamities leading to the annihilation of the cosmos, followed by its bleak renewal.\n",
        "\n",
        "According to Norse mythology, Ragnarök is prophesied to unfold amidst chaos and turmoil. The myth is predominantly chronicled in the Poetic Edda, a compilation of Old Norse poems, and the Prose Edda, penned by the Icelandic scholar Snorri Sturluson.\n",
        "\n",
        "The events of Ragnarök are sparked by a succession of omens and signs, including natural calamities, political upheaval, and the reawakening of ancient adversaries. Among the central figures in Ragnarök are the gods Odin, Thor, Loki, and Freyr, as well as a myriad of monstrous entities and otherworldly beings.\n",
        "\n",
        "Several significant events foretold to transpire during Ragnarök are as follows:\n",
        "\n",
        "The Fimbulwinter: A prolonged, brutal winter preceding Ragnarök, characterized by raging snowstorms and enveloping darkness.\n",
        "The Slaying of Baldr: Baldr, Odin and Frigg's beloved son, is ruthlessly murdered by Loki, triggering a chain of events that hasten Ragnarök's arrival.\n",
        "The Breaking of Bonds: Fenrir, the monstrous wolf, breaks free from his restraints, while the Midgard Serpent, Jörmungandr, emerges from the ocean's depths.\n",
        "The Final Battle: The gods and their adversaries assemble on the plains of Vigrid for an ultimate confrontation. Odin meets his demise at the jaws of the wolf Fenrir, and Thor engages in a futile struggle against the Midgard Serpent before succumbing to its venom.\n",
        "The World's Destruction: As the gods perish in battle, the world is engulfed by flames and deluged by water. The sun and moon are devoured by wolves, and the stars vanish from the heavens.\n",
        "The World's Desolate Renewal: Despite Ragnarök's devastation, the world emerges from the ruins. A new pantheon of gods, guided by Baldr's resurrection from the realm of the dead, inherits the remnants of the old world, heralding an era of desolation and despair.\n",
        "Ragnarök serves as a bleak reflection of the Norse worldview, which fixated on the cyclical nature of existence, where creation and destruction are inextricably intertwined in an unending cosmic cycle of suffering and decay. The myth underscores themes of fate, despair, and the inexorable march towards oblivion, providing a somber glimpse into the Norse understanding of the human condition and the enigmas of the universe."
      ],
      "metadata": {
        "id": "OEmr1ZLTuUDV"
      }
    },
    {
      "cell_type": "code",
      "execution_count": null,
      "metadata": {
        "colab": {
          "base_uri": "https://localhost:8080/"
        },
        "id": "LqhZOT2gsDqQ",
        "outputId": "d0907b8b-2996-4124-a237-a9fe105bacd1"
      },
      "outputs": [
        {
          "output_type": "stream",
          "name": "stdout",
          "text": [
            "The sentiment of the provided text is negative.\n"
          ]
        }
      ],
      "source": [
        "from textblob import TextBlob\n",
        "\n",
        "def analyze_sentiment(sentence):\n",
        "    # Create a TextBlob object\n",
        "    blob = TextBlob(sentence)\n",
        "\n",
        "    # Get the sentiment polarity\n",
        "    polarity = blob.sentiment.polarity\n",
        "\n",
        "    # Define sentiment categories based on polarity\n",
        "    if polarity > 0:\n",
        "        sentiment = \"positive\"\n",
        "    elif polarity == 0:\n",
        "        sentiment = \"neutral\"\n",
        "    else:\n",
        "        sentiment = \"negative\"\n",
        "\n",
        "    return sentiment\n",
        "\n",
        "# Input text\n",
        "sentence = \"\"\"In Norse mythology, Ragnarök is a catastrophic event destined to occur at the world's end. The term \"Ragnarök\" translates to \"Doom of the Gods\" or \"Dusk of the Gods\" in Old Norse, painting a grim picture. It is portrayed as a series of calamities leading to the annihilation of the cosmos, followed by its bleak renewal.\n",
        "According to Norse mythology, Ragnarök is prophesied to unfold amidst chaos and turmoil. The myth is predominantly chronicled in the Poetic Edda, a compilation of Old Norse poems, and the Prose Edda, penned by the Icelandic scholar Snorri Sturluson.\n",
        "The events of Ragnarök are sparked by a succession of omens and signs, including natural calamities, political upheaval, and the reawakening of ancient adversaries. Among the central figures in Ragnarök are the gods Odin, Thor, Loki, and Freyr, as well as a myriad of monstrous entities and otherworldly beings.\n",
        "Several significant events foretold to transpire during Ragnarök are as follows:\n",
        "The Fimbulwinter: A prolonged, brutal winter preceding Ragnarök, characterized by raging snowstorms and enveloping darkness.\n",
        "The Slaying of Baldr: Baldr, Odin and Frigg's beloved son, is ruthlessly murdered by Loki, triggering a chain of events that hasten Ragnarök's arrival.\n",
        "The Breaking of Bonds: Fenrir, the monstrous wolf, breaks free from his restraints, while the Midgard Serpent, Jörmungandr, emerges from the ocean's depths.\n",
        "The Final Battle: The gods and their adversaries assemble on the plains of Vigrid for an ultimate confrontation. Odin meets his demise at the jaws of the wolf Fenrir, and Thor engages in a futile struggle against the Midgard Serpent before succumbing to its venom.\n",
        "The World's Destruction: As the gods perish in battle, the world is engulfed by flames and deluged by water. The sun and moon are devoured by wolves, and the stars vanish from the heavens.\n",
        "The World's Desolate Renewal: Despite Ragnarök's devastation, the world emerges from the ruins. A new pantheon of gods, guided by Baldr's resurrection from the realm of the dead, inherits the remnants of the old world, heralding an era of desolation and despair.\n",
        "Ragnarök serves as a bleak reflection of the Norse worldview, which fixated on the cyclical nature of existence, where creation and destruction are inextricably intertwined in an unending cosmic cycle of suffering and decay. The myth underscores themes of fate, despair, and the inexorable march towards oblivion, providing a somber glimpse into the Norse understanding of the human condition and the enigmas of the universe.\"\"\"\n",
        "\n",
        "# Perform sentiment analysis\n",
        "sentiment = analyze_sentiment(sentence)\n",
        "print(f\"The sentiment of the provided text is {sentiment}.\")\n"
      ]
    }
  ]
}